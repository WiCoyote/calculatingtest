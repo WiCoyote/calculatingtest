{
 "cells": [
  {
   "cell_type": "code",
   "execution_count": 1,
   "source": [
    "import pandas as pd\r\n",
    "import numpy as np\r\n",
    "import requests\r\n",
    "from datetime import date, timedelta\r\n",
    "from sqlalchemy import create_engine\r\n",
    "engine = create_engine(sensitive-info-here)"
   ],
   "outputs": [],
   "metadata": {}
  },
  {
   "cell_type": "code",
   "execution_count": 2,
   "source": [
    "# Obtaining first and last day of previous month\r\n",
    "\r\n",
    "last_day_of_prev_month = date.today().replace(day=1) - timedelta(days=1)\r\n",
    "start_day_of_prev_month = date.today().replace(day=1) - timedelta(days=last_day_of_prev_month.day)\r\n",
    "from_date = start_day_of_prev_month.strftime(\"%Y-%m-%d\")\r\n",
    "to_date = last_day_of_prev_month.strftime(\"%Y-%m-%d\")\r\n",
    "\r\n",
    "# Obtaining previous month name\r\n",
    "prev_month_name = last_day_of_prev_month.strftime('%B')\r\n",
    "\r\n",
    "# Obtaining year\r\n",
    "year = last_day_of_prev_month.strftime(\"%Y\")"
   ],
   "outputs": [],
   "metadata": {}
  },
  {
   "cell_type": "markdown",
   "source": [
    "# Obtaining infoZ from endpoint"
   ],
   "metadata": {}
  },
  {
   "cell_type": "code",
   "execution_count": 3,
   "source": [
    "infoZ = pd.read_sql_query('select registration_number,serial, model from \"myendpoint\"',con=engine)"
   ],
   "outputs": [],
   "metadata": {}
  },
  {
   "cell_type": "code",
   "execution_count": 4,
   "source": [
    "infoZ.columns = ['objectnumber','serial','program']"
   ],
   "outputs": [],
   "metadata": {}
  },
  {
   "cell_type": "code",
   "execution_count": 5,
   "source": [
    "infoZ.set_index('objectnumber', inplace=True)"
   ],
   "outputs": [],
   "metadata": {}
  },
  {
   "cell_type": "markdown",
   "source": [
    "# Consolidate data extracted from my website"
   ],
   "metadata": {}
  },
  {
   "cell_type": "code",
   "execution_count": 6,
   "source": [
    "file_name = 'mywebsite_{}.xlsx'.format(prev_month_name)\r\n",
    "df = pd.read_excel(file_name)"
   ],
   "outputs": [],
   "metadata": {}
  },
  {
   "cell_type": "code",
   "execution_count": 7,
   "source": [
    "# Creates a copy of original dataframe\r\n",
    "df_copy = df"
   ],
   "outputs": [],
   "metadata": {}
  },
  {
   "cell_type": "code",
   "execution_count": 8,
   "source": [
    "# Information I have to remove from the xlsx file\r\n",
    "\r\n",
    "df_copy = df_copy[df_copy.Duration != 'Redirected']\r\n",
    "df_copy = df_copy[df_copy.Duration != 'On Air']\r\n",
    "\r\n",
    "#The following information was removed in the past but now I have to include it. This is what is causing the problem. It is the only info from duration tha does not contain numbers\r\n",
    "#df_copy = df_copy[df_copy.Duration != 'No History Data (searched last 3 months)']\r\n",
    "\r\n",
    "df_copy = df_copy[df_copy.Duration != 'Programmed']\r\n",
    "df_copy = df_copy[df_copy.Duration != 'unknown']\r\n",
    "df_copy.Duration.replace('', np.nan, inplace=True)\r\n",
    "df_copy.dropna(subset=['Duration'], inplace=True)\r\n"
   ],
   "outputs": [],
   "metadata": {}
  },
  {
   "cell_type": "code",
   "execution_count": 9,
   "source": [
    "def format_date(text):\r\n",
    "    months = {'Jan':'01','Feb':'02','Mar':'03','Apr':'04','May':'05','Jun':'06','Jul':'07','Aug':'08','Sep':'09','Oct':'10','Nov':'11','Dec':'12'}\r\n",
    "    if(len(text) == 17):\r\n",
    "        date = text[13:17]+'-'+months[text[6:9]]+'-'+text[0:2]\r\n",
    "    elif(len(text) == 16):\r\n",
    "        date = text[12:16]+'-'+months[text[5:8]]+'-0'+text[0:1]\r\n",
    "    return date"
   ],
   "outputs": [],
   "metadata": {}
  },
  {
   "cell_type": "code",
   "execution_count": 10,
   "source": [
    "def format_timedelta(td):\r\n",
    "    minutes, seconds = divmod(td.seconds + td.days * 86400, 60)\r\n",
    "    hours, minutes = divmod(minutes, 60)\r\n",
    "    return '{:d}:{:02d}'.format(hours, minutes)"
   ],
   "outputs": [],
   "metadata": {}
  },
  {
   "cell_type": "code",
   "execution_count": 11,
   "source": [
    "#Formatting the Date\r\n",
    "df_copy['Date'] = df_copy['Date'].apply(format_date)"
   ],
   "outputs": [],
   "metadata": {}
  },
  {
   "cell_type": "code",
   "execution_count": 12,
   "source": [
    "df_copy['Date'] = pd.to_datetime(df_copy['Date'], format='%Y-%m-%d')"
   ],
   "outputs": [],
   "metadata": {}
  },
  {
   "cell_type": "code",
   "execution_count": 13,
   "source": [
    "df_copy['Duration'] = pd.to_datetime(df_copy['Duration'], format='%H:%M').dt.time"
   ],
   "outputs": [],
   "metadata": {}
  },
  {
   "cell_type": "code",
   "execution_count": 14,
   "source": [
    "df_copy['Duration'] = pd.to_timedelta(df_copy['Duration'].astype(str))"
   ],
   "outputs": [],
   "metadata": {}
  },
  {
   "cell_type": "code",
   "execution_count": 15,
   "source": [
    "df_copy.index = df_copy['Date']\r\n",
    "current_month = df_copy[from_date:to_date]"
   ],
   "outputs": [],
   "metadata": {}
  },
  {
   "cell_type": "code",
   "execution_count": 16,
   "source": [
    "fh = current_month['Duração'].groupby(current_month['objectnumber']).sum()"
   ],
   "outputs": [],
   "metadata": {}
  },
  {
   "cell_type": "code",
   "execution_count": 17,
   "source": [
    "fc = current_month.groupby(['objectnumber']).size()"
   ],
   "outputs": [],
   "metadata": {}
  },
  {
   "cell_type": "code",
   "execution_count": 18,
   "source": [
    "fc = pd.DataFrame([fc])\r\n",
    "fc = fc.T\r\n",
    "fc.columns = ['FC']\r\n",
    "fh = pd.DataFrame([fh])\r\n",
    "fh = fh.T\r\n",
    "fh.columns = ['FH']"
   ],
   "outputs": [],
   "metadata": {}
  },
  {
   "cell_type": "code",
   "execution_count": 19,
   "source": [
    "fh['FH'] = fh['FH'].apply(format_timedelta)"
   ],
   "outputs": [],
   "metadata": {}
  },
  {
   "cell_type": "code",
   "execution_count": 20,
   "source": [
    "fhfc = fh.join(fc)"
   ],
   "outputs": [],
   "metadata": {}
  },
  {
   "cell_type": "code",
   "execution_count": 21,
   "source": [
    "fhfc_infoZ = fhfc.join(infoZ)"
   ],
   "outputs": [],
   "metadata": {}
  },
  {
   "cell_type": "code",
   "execution_count": 22,
   "source": [
    "infoZ_fhfc = infoZ.join(fhfc)"
   ],
   "outputs": [],
   "metadata": {}
  },
  {
   "cell_type": "code",
   "execution_count": 23,
   "source": [
    "result_file_name = 'mywebsite_{}_{}.xlsx'.format(prev_month_name,year)\r\n",
    "fhfc_infoZ.to_excel(result_file_name)"
   ],
   "outputs": [],
   "metadata": {}
  },
  {
   "cell_type": "code",
   "execution_count": null,
   "source": [],
   "outputs": [],
   "metadata": {}
  }
 ],
 "metadata": {
  "kernelspec": {
   "display_name": "Python 3",
   "language": "python",
   "name": "python3"
  },
  "language_info": {
   "codemirror_mode": {
    "name": "ipython",
    "version": 3
   },
   "file_extension": ".py",
   "mimetype": "text/x-python",
   "name": "python",
   "nbconvert_exporter": "python",
   "pygments_lexer": "ipython3",
   "version": "3.8.5"
  }
 },
 "nbformat": 4,
 "nbformat_minor": 4
}